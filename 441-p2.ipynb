{
 "cells": [
  {
   "cell_type": "markdown",
   "metadata": {},
   "source": [
    "# MATH 441 Project 3: Energy Production Optimization\n",
    "\n",
    "**Environmental Impact Minimization with Mixed Integer Programming**"
   ]
  },
  {
   "cell_type": "code",
   "execution_count": null,
   "metadata": {},
   "outputs": [],
   "source": [
    "import numpy as np\n",
    "import pandas as pd\n",
    "import matplotlib.pyplot as plt\n",
    "import cvxpy as cp\n",
    "import seaborn as sns\n",
    "from matplotlib.ticker import PercentFormatter\n",
    "import matplotlib.colors as mcolors"
   ]
  },
  {
   "cell_type": "markdown",
   "metadata": {},
   "source": [
    "## 1. Problem Statement\n",
    "\n",
    "We need to determine the optimal mix of energy production facilities to minimize environmental impact while meeting energy demands. Different energy sources (coal, natural gas, nuclear, etc.) have varying environmental impacts, production capacities, and costs. The energy demand and production efficiency vary by time of day and season."
   ]
  },
  {
   "cell_type": "markdown",
   "metadata": {},
   "source": [
    "## 2. Mathematical Formulation\n",
    "\n",
    "### Sets\n",
    "- $i \\in I$: Types of energy sources (coal, natural gas, nuclear, hydro, solar, wind, geothermal)\n",
    "- $p \\in P$: Time periods (morning, noon, evening, night)\n",
    "- $s \\in S$: Seasons (winter, spring, summer, fall)\n",
    "\n",
    "### Parameters\n",
    "- $co2_i$: CO₂ emissions (units/h) per facility of energy type $i$\n",
    "- $air_i$: Air pollution (units/h) per facility of energy type $i$\n",
    "- $water_i$: Water pollution (units/h) per facility of energy type $i$\n",
    "- $prod_i$: Base production capacity (MW/h) per facility of energy type $i$\n",
    "- $build_i$: Construction cost (million $) per facility of energy type $i$\n",
    "- $maint_i$: Maintenance cost ($/h) per facility of energy type $i$\n",
    "- $trans_i$: Transportation cost ($/MW) per facility of energy type $i$\n",
    "- $eff_{ips}$: Efficiency factor for energy source $i$ during period $p$ in season $s$\n",
    "- $B$: Total available budget for construction (million $)\n",
    "- $D_{ps}$: Hourly electricity demand (MW) during period $p$ in season $s$\n",
    "- $H_{ps}$: Number of hours in period $p$ of season $s$ per year\n",
    "- $w_{co2}$, $w_{air}$, $w_{water}$: Weights for different environmental impacts\n",
    "\n",
    "### Decision Variables\n",
    "- $x_i$: Number of facilities to build of energy type $i$ (integer)\n",
    "\n",
    "### Objective Function\n",
    "Minimize the weighted total environmental impact:\n",
    "$$\\min \\sum_{i \\in I} (w_{co2} \\cdot co2_i + w_{air} \\cdot air_i + w_{water} \\cdot water_i) \\cdot x_i \\cdot \\sum_{p \\in P}\\sum_{s \\in S} H_{ps}$$\n",
    "\n",
    "### Constraints\n",
    "\n",
    "#### Budget Constraint\n",
    "$$\\sum_{i \\in I} build_i \\cdot x_i \\leq B$$\n",
    "\n",
    "#### Demand Constraints\n",
    "For each time period and season, production must meet demand:\n",
    "$$\\sum_{i \\in I} prod_i \\cdot eff_{ips} \\cdot x_i \\geq D_{ps} \\quad \\forall p \\in P, s \\in S$$\n",
    "\n",
    "#### Non-negativity and Integer Constraints\n",
    "$$x_i \\geq 0 \\text{ and integer} \\quad \\forall i \\in I$$"
   ]
  },
  {
   "cell_type": "markdown",
   "metadata": {},
   "source": [
    "## 3. Data Loading and Preprocessing"
   ]
  },
  {
   "cell_type": "code",
   "execution_count": null,
   "metadata": {},
   "outputs": [],
   "source": [
    "# Load the data\n",
    "data = pd.read_csv('data_project3(version4).CSV')\n",
    "data.head()"
   ]
  },
  {
   "cell_type": "code",
   "execution_count": null,
   "metadata": {},
   "outputs": [],
   "source": [
    "# Extract basic parameters\n",
    "energy_sources = data['Energy Source'].values\n",
    "production = data['Production (MW/h)'].values\n",
    "co2_emissions = data['CO? Emissions (unit/h)'].values\n",
    "air_pollution = data['Air Pollution (unit/h)'].values\n",
    "water_pollution = data['Water Pollution (unit/h)'].values\n",
    "prod_cost = data['Cost to Produce ($/h)'].values\n",
    "build_cost = data['Cost to build(million $)'].values\n",
    "maint_cost = data['Cost to Maintain ($/h)'].values\n",
    "trans_cost = data['Cost to Transport ($/M)'].values\n",
    "\n",
    "# Extract time-season efficiency factors\n",
    "seasons = ['Winter', 'Spring', 'Summer', 'Fall']\n",
    "periods = ['Morning', 'Noon', 'Evening', 'Night']\n",
    "efficiency_columns = [f\"{season} {period}\" for season in seasons for period in periods]\n",
    "\n",
    "# Create a matrix for efficiency factors: sources x (periods x seasons)\n",
    "efficiency_matrix = data[efficiency_columns].values\n",
    "\n",
    "# Reshape to 3D array: sources x periods x seasons\n",
    "efficiency_3d = np.zeros((len(energy_sources), len(periods), len(seasons)))\n",
    "for i, source in enumerate(energy_sources):\n",
    "    for p, period in enumerate(periods):\n",
    "        for s, season in enumerate(seasons):\n",
    "            col_name = f\"{season} {period}\"\n",
    "            col_index = efficiency_columns.index(col_name)\n",
    "            efficiency_3d[i, p, s] = efficiency_matrix[i, col_index]\n",
    "\n",
    "print(f\"Loaded data for {len(energy_sources)} energy sources across {len(periods)} periods and {len(seasons)} seasons.\")"
   ]
  },
  {
   "cell_type": "markdown",
   "metadata": {},
   "source": [
    "## 4. Visualization of Energy Source Characteristics"
   ]
  },
  {
   "cell_type": "code",
   "execution_count": null,
   "metadata": {},
   "outputs": [],
   "source": [
    "# Plot environmental impacts\n",
    "fig, ax = plt.subplots(figsize=(12, 6))\n",
    "x = np.arange(len(energy_sources))\n",
    "width = 0.25\n",
    "\n",
    "ax.bar(x - width, co2_emissions, width, label='CO2 Emissions')\n",
    "ax.bar(x, air_pollution, width, label='Air Pollution')\n",
    "ax.bar(x + width, water_pollution, width, label='Water Pollution')\n",
    "\n",
    "ax.set_xticks(x)\n",
    "ax.set_xticklabels(energy_sources)\n",
    "ax.legend()\n",
    "ax.set_ylabel('Environmental Impact (units/h)')\n",
    "ax.set_title('Environmental Impact by Energy Source')\n",
    "plt.xticks(rotation=45)\n",
    "plt.tight_layout()\n",
    "plt.show()"
   ]
  },
  {
   "cell_type": "code",
   "execution_count": null,
   "metadata": {},
   "outputs": [],
   "source": [
    "# Plot costs\n",
    "fig, ax1 = plt.subplots(figsize=(12, 6))\n",
    "\n",
    "color = 'tab:blue'\n",
    "ax1.set_xlabel('Energy Source')\n",
    "ax1.set_ylabel('Construction Cost (million $)', color=color)\n",
    "ax1.bar(energy_sources, build_cost, color=color, alpha=0.7)\n",
    "ax1.tick_params(axis='y', labelcolor=color)\n",
    "plt.xticks(rotation=45)\n",
    "\n",
    "ax2 = ax1.twinx()\n",
    "color = 'tab:red'\n",
    "ax2.set_ylabel('Hourly Costs ($/h)', color=color)\n",
    "ax2.plot(energy_sources, prod_cost, 'o-', color='tab:red', label='Production')\n",
    "ax2.plot(energy_sources, maint_cost, 's-', color='tab:green', label='Maintenance')\n",
    "ax2.plot(energy_sources, trans_cost, '^-', color='tab:orange', label='Transportation')\n",
    "ax2.tick_params(axis='y', labelcolor=color)\n",
    "ax2.legend()\n",
    "\n",
    "plt.title('Cost Structure by Energy Source')\n",
    "plt.tight_layout()\n",
    "plt.show()"
   ]
  },
  {
   "cell_type": "markdown",
   "metadata": {},
   "source": [
    "## 5. Heatmap of Efficiency Factors"
   ]
  },
  {
   "cell_type": "code",
   "execution_count": null,
   "metadata": {},
   "outputs": [],
   "source": [
    "# Create a function to plot heatmap for a specific energy source\n",
    "def plot_efficiency_heatmap(source_index, source_name):\n",
    "    efficiency_data = efficiency_3d[source_index]\n",
    "    \n",
    "    plt.figure(figsize=(10, 6))\n",
    "    sns.heatmap(efficiency_data, annot=True, fmt=\".1f\", \n",
    "                xticklabels=seasons, yticklabels=periods,\n",
    "                cmap=\"YlGnBu\", vmin=0, vmax=6)\n",
    "    plt.title(f'Efficiency Factors for {source_name}')\n",
    "    plt.ylabel('Time Period')\n",
    "    plt.xlabel('Season')\n",
    "    plt.tight_layout()\n",
    "    plt.show()\n",
    "\n",
    "# Plot for a few selected sources\n",
    "for i, source in enumerate(['Solar', 'Wind', 'Coal', 'Nuclear']):\n",
    "    if source in energy_sources:\n",
    "        source_idx = np.where(energy_sources == source)[0][0]\n",
    "        plot_efficiency_heatmap(source_idx, source)"
   ]
  },
  {
   "cell_type": "markdown",
   "metadata": {},
   "source": [
    "## 6. Model Parameters Setup"
   ]
  },
  {
   "cell_type": "code",
   "execution_count": null,
   "metadata": {},
   "outputs": [],
   "source": [
    "# Set the budget constraint\n",
    "budget = 30000  # in million $\n",
    "\n",
    "# Set demand for each period and season\n",
    "# For this example, we'll create a demand matrix\n",
    "# Higher demand during day, lower at night\n",
    "# Higher demand in winter and summer (heating/cooling)\n",
    "base_demand = 10000  # Base demand in MW\n",
    "demand = np.zeros((len(periods), len(seasons)))\n",
    "\n",
    "# Seasonal variations\n",
    "season_factors = {'Winter': 1.3, 'Spring': 0.8, 'Summer': 1.2, 'Fall': 0.9}\n",
    "# Period variations\n",
    "period_factors = {'Morning': 1.1, 'Noon': 1.3, 'Evening': 1.4, 'Night': 0.7}\n",
    "\n",
    "for p, period in enumerate(periods):\n",
    "    for s, season in enumerate(seasons):\n",
    "        demand[p, s] = base_demand * season_factors[season] * period_factors[period]\n",
    "\n",
    "# Hours in each period-season combination\n",
    "# Assume: 90 days per season, periods are: morning (6h), noon (6h), evening (6h), night (6h)\n",
    "hours_per_period = 6\n",
    "days_per_season = 90\n",
    "hours = np.full((len(periods), len(seasons)), hours_per_period * days_per_season)\n",
    "\n",
    "# Set impact weights\n",
    "w_co2 = 0.5\n",
    "w_air = 0.3\n",
    "w_water = 0.2"
   ]
  },
  {
   "cell_type": "markdown",
   "metadata": {},
   "source": [
    "## 7. Optimization Model"
   ]
  },
  {
   "cell_type": "code",
   "execution_count": null,
   "metadata": {},
   "outputs": [],
   "source": [
    "# Number of energy sources\n",
    "n = len(energy_sources)\n",
    "\n",
    "# Decision variables: number of facilities for each energy source\n",
    "x = cp.Variable(n, integer=True)\n",
    "\n",
    "# Environmental impact weights\n",
    "env_impact = w_co2 * co2_emissions + w_air * air_pollution + w_water * water_pollution\n",
    "\n",
    "# Total hours per year\n",
    "total_hours = np.sum(hours)\n",
    "\n",
    "# Objective: Minimize weighted environmental impact\n",
    "objective = cp.Minimize(cp.sum(cp.multiply(env_impact, x)) * total_hours)\n",
    "\n",
    "# Constraints\n",
    "constraints = []\n",
    "\n",
    "# Budget constraint\n",
    "constraints.append(cp.sum(cp.multiply(build_cost, x)) <= budget)\n",
    "\n",
    "# Demand constraints for each period and season\n",
    "for p in range(len(periods)):\n",
    "    for s in range(len(seasons)):\n",
    "        # Calculate effective production for each source in this period-season\n",
    "        effective_prod = np.array([production[i] * efficiency_3d[i, p, s] for i in range(n)])\n",
    "        constraints.append(cp.sum(cp.multiply(effective_prod, x)) >= demand[p, s])\n",
    "\n",
    "# Non-negativity constraints\n",
    "constraints.append(x >= 0)\n",
    "\n",
    "# Create and solve the problem\n",
    "prob = cp.Problem(objective, constraints)\n",
    "prob.solve(solver=cp.GLPK_MI, verbose=True)"
   ]
  },
  {
   "cell_type": "markdown",
   "metadata": {},
   "source": [
    "## 8. Results Analysis"
   ]
  },
  {
   "cell_type": "code",
   "execution_count": null,
   "metadata": {},
   "outputs": [],
   "source": [
    "# Check if the problem was solved successfully\n",
    "print(f\"Problem status: {prob.status}\")\n",
    "if prob.status == 'optimal':\n",
    "    print(f\"Optimal value: {prob.value:.2f} environmental impact units\")\n",
    "    \n",
    "    # Extract optimal solution\n",
    "    optimal_facilities = np.round(x.value).astype(int)\n",
    "    \n",
    "    # Create a dataframe for results\n",
    "    results = pd.DataFrame({\n",
    "        'Energy Source': energy_sources,\n",
    "        'Number of Facilities': optimal_facilities,\n",
    "        'Production Capacity (MW/h)': production * optimal_facilities,\n",
    "        'CO2 Emissions (unit/h)': co2_emissions * optimal_facilities,\n",
    "        'Air Pollution (unit/h)': air_pollution * optimal_facilities,\n",
    "        'Water Pollution (unit/h)': water_pollution * optimal_facilities,\n",
    "        'Construction Cost (million $)': build_cost * optimal_facilities\n",
    "    })\n",
    "    \n",
    "    print(\"\\nOptimal Energy Mix:\")\n",
    "    print(results[['Energy Source', 'Number of Facilities']])\n",
    "    \n",
    "    print(f\"\\nTotal Construction Cost: ${results['Construction Cost (million $)'].sum()} million\")\n",
    "    print(f\"Available Budget: ${budget} million\")\n",
    "    \n",
    "    # Calculate total environmental impact\n",
    "    total_co2 = np.sum(results['CO2 Emissions (unit/h)']) * total_hours\n",
    "    total_air = np.sum(results['Air Pollution (unit/h)']) * total_hours\n",
    "    total_water = np.sum(results['Water Pollution (unit/h)']) * total_hours\n",
    "    \n",
    "    print(f\"\\nAnnual Environmental Impact:\")\n",
    "    print(f\"CO2 Emissions: {total_co2:.2f} units\")\n",
    "    print(f\"Air Pollution: {total_air:.2f} units\")\n",
    "    print(f\"Water Pollution: {total_water:.2f} units\")\n",
    "else:\n",
    "    print(\"Problem could not be solved to optimality.\")"
   ]
  },
  {
   "cell_type": "markdown",
   "metadata": {},
   "source": [
    "## 9. Visualizations of Results"
   ]
  },
  {
   "cell_type": "code",
   "execution_count": null,
   "metadata": {},
   "outputs": [],
   "source": [
    "if prob.status == 'optimal':\n",
    "    # Filter sources that are used in the optimal solution\n",
    "    used_sources = results[results['Number of Facilities'] > 0]\n",
    "    \n",
    "    # Plotting the optimal energy mix\n",
    "    plt.figure(figsize=(10, 6))\n",
    "    plt.bar(used_sources['Energy Source'], used_sources['Number of Facilities'], color='skyblue')\n",
    "    plt.title('Optimal Number of Facilities by Energy Source')\n",
    "    plt.xlabel('Energy Source')\n",
    "    plt.ylabel('Number of Facilities')\n",
    "    plt.xticks(rotation=45)\n",
    "    plt.tight_layout()\n",
    "    plt.show()\n",
    "    \n",
    "    # Pie chart of energy contribution\n",
    "    production_mix = used_sources['Production Capacity (MW/h)']\n",
    "    labels = used_sources['Energy Source']\n",
    "    \n",
    "    plt.figure(figsize=(10, 6))\n",
    "    plt.pie(production_mix, labels=labels, autopct='%1.1f%%', \n",
    "            startangle=90, shadow=True, colors=plt.cm.Paired.colors)\n",
    "    plt.axis('equal')  # Equal aspect ratio ensures that pie is drawn as a circle\n",
    "    plt.title('Energy Production Distribution')\n",
    "    plt.tight_layout()\n",
    "    plt.show()"
   ]
  },
  {
   "cell_type": "code",
   "execution_count": null,
   "metadata": {},
   "outputs": [],
   "source": [
    "if prob.status == 'optimal':\n",
    "    # Check if demand is met in all period-season combinations\n",
    "    demand_satisfaction = np.zeros((len(periods), len(seasons)))\n",
    "    demand_ratio = np.zeros((len(periods), len(seasons)))\n",
    "    \n",
    "    for p in range(len(periods)):\n",
    "        for s in range(len(seasons)):\n",
    "            # Calculate total effective production\n",
    "            total_prod = 0\n",
    "            for i in range(n):\n",
    "                if optimal_facilities[i] > 0:\n",
    "                    total_prod += production[i] * efficiency_3d[i, p, s] * optimal_facilities[i]\n",
    "            \n",
    "            demand_satisfaction[p, s] = total_prod\n",
    "            demand_ratio[p, s] = total_prod / demand[p, s]\n",
    "    \n",
    "    # Plot demand satisfaction\n",
    "    plt.figure(figsize=(12, 6))\n",
    "    sns.heatmap(demand_ratio, annot=True, fmt=\".2f\", \n",
    "                xticklabels=seasons, yticklabels=periods,\n",
    "                cmap=\"YlGnBu\")\n",
    "    plt.title('Demand Satisfaction Ratio (Supply/Demand)')\n",
    "    plt.ylabel('Time Period')\n",
    "    plt.xlabel('Season')\n",
    "    plt.tight_layout()\n",
    "    plt.show()"
   ]
  },
  {
   "cell_type": "markdown",
   "metadata": {},
   "source": [
    "## 10. Sensitivity Analysis"
   ]
  },
  {
   "cell_type": "code",
   "execution_count": null,
   "metadata": {},
   "outputs": [],
   "source": [
    "# We can investigate how solutions change with different environmental weights\n",
    "# or with different budget constraints\n",
    "\n",
    "def solve_with_weights(w_co2, w_air, w_water, budget_val=budget):\n",
    "    env_impact = w_co2 * co2_emissions + w_air * air_pollution + w_water * water_pollution\n",
    "    objective = cp.Minimize(cp.sum(cp.multiply(env_impact, x)) * total_hours)\n",
    "    \n",
    "    # Update budget constraint\n",
    "    constraints[0] = cp.sum(cp.multiply(build_cost, x)) <= budget_val\n",
    "    \n",
    "    prob = cp.Problem(objective, constraints)\n",
    "    prob.solve(solver=cp.GLPK_MI)\n",
    "    \n",
    "    if prob.status == 'optimal':\n",
    "        return np.round(x.value).astype(int), prob.value\n",
    "    else:\n",
    "        return None, None\n",
    "\n",
    "# Scenario 1: Prioritize CO2 reduction\n",
    "facilities_s1, value_s1 = solve_with_weights(0.8, 0.1, 0.1)\n",
    "\n",
    "# Scenario 2: Prioritize air pollution reduction\n",
    "facilities_s2, value_s2 = solve_with_weights(0.1, 0.8, 0.1)\n",
    "\n",
    "# Scenario 3: Prioritize water pollution reduction\n",
    "facilities_s3, value_s3 = solve_with_weights(0.1, 0.1, 0.8)\n",
    "\n",
    "# Scenario 4: Equal weights but lower budget\n",
    "facilities_s4, value_s4 = solve_with_weights(0.33, 0.33, 0.34, budget_val=budget*0.7)"
   ]
  },
  {
   "cell_type": "code",
   "execution_count": null,
   "metadata": {},
   "outputs": [],
   "source": [
    "# Compare results across scenarios\n",
    "scenarios = ['Base Case', 'CO2 Priority', 'Air Priority', 'Water Priority', 'Lower Budget']\n",
    "all_facilities = [optimal_facilities, facilities_s1, facilities_s2, facilities_s3, facilities_s4]\n",
    "\n",
    "# Create comparison table\n",
    "comparison = pd.DataFrame(index=energy_sources)\n",
    "\n",
    "for i, scenario in enumerate(scenarios):\n",
    "    if i < len(all_facilities) and all_facilities[i] is not None:\n",
    "        comparison[scenario] = all_facilities[i]\n",
    "    \n",
    "# Display the comparison\n",
    "comparison.fillna(0, inplace=True)\n",
    "comparison = comparison.astype(int)\n",
    "print(\"Number of Facilities by Scenario:\")\n",
    "comparison"
   ]
  },
  {
   "cell_type": "code",
   "execution_count": null,
   "metadata": {},
   "outputs": [],
   "source": [
    "# Visualize the comparison\n",
    "plt.figure(figsize=(14, 8))\n",
    "\n",
    "x = np.arange(len(energy_sources))\n",
    "width = 0.15\n",
    "multiplier = 0\n",
    "\n",
    "for attribute, measurement in comparison.items():\n",
    "    offset = width * multiplier\n",
    "    rects = plt.bar(x + offset, measurement, width, label=attribute)\n",
    "    multiplier += 1\n",
    "\n",
    "plt.ylabel('Number of Facilities')\n",
    "plt.xlabel('Energy Source')\n",
    "plt.title('Optimal Energy Mix by Scenario')\n",
    "plt.xticks(x + width * (len(scenarios)-1)/2, energy_sources, rotation=45)\n",
    "plt.legend(loc='upper center', bbox_to_anchor=(0.5, 1.05), ncol=len(scenarios))\n",
    "plt.tight_layout()\n",
    "plt.show()"
   ]
  },
  {
   "cell_type": "markdown",
   "metadata": {},
   "source": [
    "## 11. Conclusion\n",
    "\n",
    "This mathematical optimization model provides a framework for determining the optimal energy production mix to minimize environmental impacts while meeting demand constraints. The model demonstrates that:\n",
    "\n",
    "1. Different energy sources have varying environmental impacts, production capacities, and costs.\n",
    "2. The optimal solution depends strongly on how environmental impacts are weighted.\n",
    "3. Budget constraints significantly affect the available options.\n",
    "4. Time-of-day and seasonal variations in both demand and production efficiency are critical factors.\n",
    "\n",
    "Future enhancements could include:\n",
    "- More granular time periods\n",
    "- Storage considerations\n",
    "- Network transmission constraints\n",
    "- Carbon pricing mechanisms"
   ]
  }
 ],
 "metadata": {
  "kernelspec": {
   "display_name": "Python 3",
   "language": "python",
   "name": "python3"
  },
  "language_info": {
   "codemirror_mode": {
    "name": "ipython",
    "version": 3
   },
   "file_extension": ".py",
   "mimetype": "text/x-python",
   "name": "python",
   "nbconvert_exporter": "python",
   "pygments_lexer": "ipython3",
   "version": "3.10.12"
  }
 },
 "nbformat": 4,
 "nbformat_minor": 4
}