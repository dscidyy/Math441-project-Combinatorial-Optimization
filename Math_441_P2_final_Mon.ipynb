{
  "cells": [
    {
      "cell_type": "markdown",
      "metadata": {
        "id": "QA-yLoGHT5Wi"
      },
      "source": [
        "# MATH 441 Project 3: Energy Production Optimization\n",
        "\n",
        "**Environmental Impact Minimization with Mixed Integer Programming**"
      ]
    },
    {
      "cell_type": "code",
      "execution_count": 2,
      "metadata": {
        "colab": {
          "base_uri": "https://localhost:8080/"
        },
        "id": "o6zM2r4NT5Wj",
        "outputId": "9aa1effd-3cc0-490b-c099-fab5dcb3d47a"
      },
      "outputs": [
        {
          "name": "stdout",
          "output_type": "stream",
          "text": [
            "Requirement already satisfied: cvxpy in /usr/local/lib/python3.11/dist-packages (1.6.3)\n",
            "Requirement already satisfied: osqp>=0.6.2 in /usr/local/lib/python3.11/dist-packages (from cvxpy) (0.6.7.post3)\n",
            "Requirement already satisfied: clarabel>=0.5.0 in /usr/local/lib/python3.11/dist-packages (from cvxpy) (0.10.0)\n",
            "Requirement already satisfied: scs>=3.2.4.post1 in /usr/local/lib/python3.11/dist-packages (from cvxpy) (3.2.7.post2)\n",
            "Requirement already satisfied: numpy>=1.21.6 in /usr/local/lib/python3.11/dist-packages (from cvxpy) (2.0.2)\n",
            "Requirement already satisfied: scipy>=1.11.0 in /usr/local/lib/python3.11/dist-packages (from cvxpy) (1.14.1)\n",
            "Requirement already satisfied: qdldl in /usr/local/lib/python3.11/dist-packages (from osqp>=0.6.2->cvxpy) (0.1.7.post5)\n"
          ]
        }
      ],
      "source": [
        "%pip install cvxpy\n",
        "import numpy as np\n",
        "import pandas as pd\n",
        "import matplotlib.pyplot as plt\n",
        "import cvxpy as cp\n",
        "import seaborn as sns\n",
        "from matplotlib.ticker import PercentFormatter\n",
        "import matplotlib.colors as mcolors"
      ]
    },
    {
      "cell_type": "markdown",
      "metadata": {
        "id": "xG_Th2s8T5Wj"
      },
      "source": [
        "## 1. Problem Statement\n",
        "\n",
        "We need to determine the optimal mix of energy production facilities to minimize environmental impact while meeting energy demands. Different energy sources (coal, natural gas, nuclear, etc.) have varying environmental impacts, production capacities, and costs. The energy demand and production efficiency vary by time of day and season."
      ]
    },
    {
      "cell_type": "markdown",
      "metadata": {
        "id": "s1fi0O-JT5Wk"
      },
      "source": [
        "## 2. Mathematical Formulation\n",
        "\n",
        "### Sets\n",
        "- $i \\in I$: Types of energy sources (coal, natural gas, nuclear, hydro, solar, wind, geothermal)\n",
        "- $p \\in P$: Time periods (morning, noon, evening, night)\n",
        "- $s \\in S$: Seasons (winter, spring, summer, fall)\n",
        "\n",
        "### Parameters\n",
        "- $co2_i$: Hourly CO₂ emissions (units/h) per facility of energy type $i$\n",
        "- $air_i$:  Hourly air pollution (units/h) per facility of energy type $i$\n",
        "- $water_i$: Hourly water pollution (units/h) per facility of energy type $i$\n",
        "- $e_i$: Hourly environmental impacts per facility of energy type $i$, a integration of CO₂, air and water pollution \\\n",
        "$$ e_i = (w_{co2} \\cdot co2_i + w_{air} \\cdot air_i + w_{water} \\cdot water_i) $$\n",
        "- $prod_i$: Hourly base production capacity (MW/h) per facility of energy type $i$\n",
        "- $cc_i$: Construction cost (million dollars) per facility of energy type $i$\n",
        "- $pc_i$: production cost (thousand dollars) per hour per facility of energy type $i$\n",
        "- $h_{ips}$: Working hours for energy source $i$ during period $p$ in season $s$\n",
        "- $B$: Total available budget for construction (million dollars)\n",
        "- $D_{ps}$: Hourly electricity demand (MW) during period $p$ in season $s$\n",
        "- $w_{co2}$, $w_{air}$, $w_{water}$: Weights for different environmental impacts\n",
        "- $\\alpha$ weight for environmental factor\n",
        "- $\\beta$ weight for economic factor\n",
        "- $r$: Maximum allowable ratio for a single energy type in total production\n",
        "  \n",
        "### Decision Variables\n",
        "- $x_i$: Number of facilities to build of energy type $i$ (integer)\n",
        "\n",
        "### Objective Function\n",
        "Minimize the weighted total environmental impact:\n",
        "$$\\min \\sum_{i \\in I} (\\alpha \\dot e_i + \\beta pc_i) \\cdot x_i \\cdot \\sum_{p \\in P}\\sum_{s \\in S} h_{ips}$$\n",
        "\n",
        "\n",
        "### Constraints\n",
        "\n",
        "#### Budget Constraint\n",
        "$$\\sum_{i \\in I} cc_i \\cdot x_i \\leq B$$\n",
        "\n",
        "#### Demand Constraints\n",
        "For each time period and season, production must meet demand:\n",
        "$$\\sum_{i \\in I} prod_i \\cdot h_{ips} \\cdot x_i \\geq D_{ps} \\quad \\forall p \\in P, s \\in S$$\n",
        "\n",
        "#### Non-negativity and Integer Constraints\n",
        "$$x_i \\geq 0 \\text{ and integer} \\quad \\forall i \\in I$$\n",
        "\n",
        "#### Factor Diversity Constraint\n",
        "The number of each type of factory should be less then $r$ of the total number of factory\n",
        "$$ x_i \\leq r \\cdot \\sum_{i \\in I} x$$"
      ]
    },
    {
      "cell_type": "markdown",
      "metadata": {
        "id": "xyID8t6rT5Wk"
      },
      "source": [
        "## 3. Data Loading and Preprocessing"
      ]
    },
    {
      "cell_type": "code",
      "execution_count": 3,
      "metadata": {
        "colab": {
          "base_uri": "https://localhost:8080/",
          "height": 307
        },
        "id": "-lwNGXOXT5Wk",
        "outputId": "fbb61301-34bf-4266-ff12-a166d8ec6b3e"
      },
      "outputs": [
        {
          "data": {
            "application/vnd.google.colaboratory.intrinsic+json": {
              "type": "dataframe",
              "variable_name": "data"
            },
            "text/html": [
              "\n",
              "  <div id=\"df-18eeeeb6-42f4-434c-a669-3850d801f476\" class=\"colab-df-container\">\n",
              "    <div>\n",
              "<style scoped>\n",
              "    .dataframe tbody tr th:only-of-type {\n",
              "        vertical-align: middle;\n",
              "    }\n",
              "\n",
              "    .dataframe tbody tr th {\n",
              "        vertical-align: top;\n",
              "    }\n",
              "\n",
              "    .dataframe thead th {\n",
              "        text-align: right;\n",
              "    }\n",
              "</style>\n",
              "<table border=\"1\" class=\"dataframe\">\n",
              "  <thead>\n",
              "    <tr style=\"text-align: right;\">\n",
              "      <th></th>\n",
              "      <th>Energy Source</th>\n",
              "      <th>Production (MW/h)</th>\n",
              "      <th>CO? Emissions (unit/h)</th>\n",
              "      <th>Air Pollution (unit/h)</th>\n",
              "      <th>Water Pollution (unit/h)</th>\n",
              "      <th>Cost to Produce ($/h)</th>\n",
              "      <th>Cost to build(million $)</th>\n",
              "      <th>Cost to Maintain ($/h)</th>\n",
              "      <th>Cost to Transport ($/M)</th>\n",
              "      <th>Winter Morning</th>\n",
              "      <th>...</th>\n",
              "      <th>Spring Evening</th>\n",
              "      <th>Spring Night</th>\n",
              "      <th>Summer Morning</th>\n",
              "      <th>Summer Noon</th>\n",
              "      <th>Summer Evening</th>\n",
              "      <th>Summer Night</th>\n",
              "      <th>Fall Morning</th>\n",
              "      <th>Fall Noon</th>\n",
              "      <th>Fall Evening</th>\n",
              "      <th>Fall Night</th>\n",
              "    </tr>\n",
              "  </thead>\n",
              "  <tbody>\n",
              "    <tr>\n",
              "      <th>0</th>\n",
              "      <td>Coal</td>\n",
              "      <td>1100</td>\n",
              "      <td>18.0</td>\n",
              "      <td>15.2</td>\n",
              "      <td>12.5</td>\n",
              "      <td>65</td>\n",
              "      <td>1000</td>\n",
              "      <td>30</td>\n",
              "      <td>10</td>\n",
              "      <td>6</td>\n",
              "      <td>...</td>\n",
              "      <td>6</td>\n",
              "      <td>6</td>\n",
              "      <td>6</td>\n",
              "      <td>6</td>\n",
              "      <td>6</td>\n",
              "      <td>6</td>\n",
              "      <td>6</td>\n",
              "      <td>6</td>\n",
              "      <td>6</td>\n",
              "      <td>6</td>\n",
              "    </tr>\n",
              "    <tr>\n",
              "      <th>1</th>\n",
              "      <td>Natural Gas</td>\n",
              "      <td>1000</td>\n",
              "      <td>9.0</td>\n",
              "      <td>7.5</td>\n",
              "      <td>5.8</td>\n",
              "      <td>50</td>\n",
              "      <td>1900</td>\n",
              "      <td>20</td>\n",
              "      <td>8</td>\n",
              "      <td>3</td>\n",
              "      <td>...</td>\n",
              "      <td>5</td>\n",
              "      <td>3</td>\n",
              "      <td>4</td>\n",
              "      <td>5</td>\n",
              "      <td>6</td>\n",
              "      <td>4</td>\n",
              "      <td>3</td>\n",
              "      <td>5</td>\n",
              "      <td>5</td>\n",
              "      <td>3</td>\n",
              "    </tr>\n",
              "    <tr>\n",
              "      <th>2</th>\n",
              "      <td>Nuclear</td>\n",
              "      <td>1050</td>\n",
              "      <td>0.5</td>\n",
              "      <td>0.5</td>\n",
              "      <td>8.0</td>\n",
              "      <td>25</td>\n",
              "      <td>10000</td>\n",
              "      <td>50</td>\n",
              "      <td>5</td>\n",
              "      <td>6</td>\n",
              "      <td>...</td>\n",
              "      <td>6</td>\n",
              "      <td>6</td>\n",
              "      <td>6</td>\n",
              "      <td>6</td>\n",
              "      <td>6</td>\n",
              "      <td>6</td>\n",
              "      <td>6</td>\n",
              "      <td>6</td>\n",
              "      <td>6</td>\n",
              "      <td>6</td>\n",
              "    </tr>\n",
              "    <tr>\n",
              "      <th>3</th>\n",
              "      <td>Hydro</td>\n",
              "      <td>755</td>\n",
              "      <td>0.2</td>\n",
              "      <td>1.8</td>\n",
              "      <td>4.5</td>\n",
              "      <td>20</td>\n",
              "      <td>3000</td>\n",
              "      <td>20</td>\n",
              "      <td>2</td>\n",
              "      <td>2</td>\n",
              "      <td>...</td>\n",
              "      <td>6</td>\n",
              "      <td>5</td>\n",
              "      <td>5</td>\n",
              "      <td>6</td>\n",
              "      <td>6</td>\n",
              "      <td>5</td>\n",
              "      <td>3</td>\n",
              "      <td>5</td>\n",
              "      <td>6</td>\n",
              "      <td>5</td>\n",
              "    </tr>\n",
              "    <tr>\n",
              "      <th>4</th>\n",
              "      <td>Solar</td>\n",
              "      <td>700</td>\n",
              "      <td>0.1</td>\n",
              "      <td>0.8</td>\n",
              "      <td>0.1</td>\n",
              "      <td>40</td>\n",
              "      <td>2500</td>\n",
              "      <td>10</td>\n",
              "      <td>2</td>\n",
              "      <td>2</td>\n",
              "      <td>...</td>\n",
              "      <td>3</td>\n",
              "      <td>0</td>\n",
              "      <td>4</td>\n",
              "      <td>6</td>\n",
              "      <td>4</td>\n",
              "      <td>0</td>\n",
              "      <td>3</td>\n",
              "      <td>5</td>\n",
              "      <td>3</td>\n",
              "      <td>0</td>\n",
              "    </tr>\n",
              "  </tbody>\n",
              "</table>\n",
              "<p>5 rows × 25 columns</p>\n",
              "</div>\n",
              "    <div class=\"colab-df-buttons\">\n",
              "\n",
              "  <div class=\"colab-df-container\">\n",
              "    <button class=\"colab-df-convert\" onclick=\"convertToInteractive('df-18eeeeb6-42f4-434c-a669-3850d801f476')\"\n",
              "            title=\"Convert this dataframe to an interactive table.\"\n",
              "            style=\"display:none;\">\n",
              "\n",
              "  <svg xmlns=\"http://www.w3.org/2000/svg\" height=\"24px\" viewBox=\"0 -960 960 960\">\n",
              "    <path d=\"M120-120v-720h720v720H120Zm60-500h600v-160H180v160Zm220 220h160v-160H400v160Zm0 220h160v-160H400v160ZM180-400h160v-160H180v160Zm440 0h160v-160H620v160ZM180-180h160v-160H180v160Zm440 0h160v-160H620v160Z\"/>\n",
              "  </svg>\n",
              "    </button>\n",
              "\n",
              "  <style>\n",
              "    .colab-df-container {\n",
              "      display:flex;\n",
              "      gap: 12px;\n",
              "    }\n",
              "\n",
              "    .colab-df-convert {\n",
              "      background-color: #E8F0FE;\n",
              "      border: none;\n",
              "      border-radius: 50%;\n",
              "      cursor: pointer;\n",
              "      display: none;\n",
              "      fill: #1967D2;\n",
              "      height: 32px;\n",
              "      padding: 0 0 0 0;\n",
              "      width: 32px;\n",
              "    }\n",
              "\n",
              "    .colab-df-convert:hover {\n",
              "      background-color: #E2EBFA;\n",
              "      box-shadow: 0px 1px 2px rgba(60, 64, 67, 0.3), 0px 1px 3px 1px rgba(60, 64, 67, 0.15);\n",
              "      fill: #174EA6;\n",
              "    }\n",
              "\n",
              "    .colab-df-buttons div {\n",
              "      margin-bottom: 4px;\n",
              "    }\n",
              "\n",
              "    [theme=dark] .colab-df-convert {\n",
              "      background-color: #3B4455;\n",
              "      fill: #D2E3FC;\n",
              "    }\n",
              "\n",
              "    [theme=dark] .colab-df-convert:hover {\n",
              "      background-color: #434B5C;\n",
              "      box-shadow: 0px 1px 3px 1px rgba(0, 0, 0, 0.15);\n",
              "      filter: drop-shadow(0px 1px 2px rgba(0, 0, 0, 0.3));\n",
              "      fill: #FFFFFF;\n",
              "    }\n",
              "  </style>\n",
              "\n",
              "    <script>\n",
              "      const buttonEl =\n",
              "        document.querySelector('#df-18eeeeb6-42f4-434c-a669-3850d801f476 button.colab-df-convert');\n",
              "      buttonEl.style.display =\n",
              "        google.colab.kernel.accessAllowed ? 'block' : 'none';\n",
              "\n",
              "      async function convertToInteractive(key) {\n",
              "        const element = document.querySelector('#df-18eeeeb6-42f4-434c-a669-3850d801f476');\n",
              "        const dataTable =\n",
              "          await google.colab.kernel.invokeFunction('convertToInteractive',\n",
              "                                                    [key], {});\n",
              "        if (!dataTable) return;\n",
              "\n",
              "        const docLinkHtml = 'Like what you see? Visit the ' +\n",
              "          '<a target=\"_blank\" href=https://colab.research.google.com/notebooks/data_table.ipynb>data table notebook</a>'\n",
              "          + ' to learn more about interactive tables.';\n",
              "        element.innerHTML = '';\n",
              "        dataTable['output_type'] = 'display_data';\n",
              "        await google.colab.output.renderOutput(dataTable, element);\n",
              "        const docLink = document.createElement('div');\n",
              "        docLink.innerHTML = docLinkHtml;\n",
              "        element.appendChild(docLink);\n",
              "      }\n",
              "    </script>\n",
              "  </div>\n",
              "\n",
              "\n",
              "<div id=\"df-86b7dfac-9cfd-41e3-9699-fe7ae57e758e\">\n",
              "  <button class=\"colab-df-quickchart\" onclick=\"quickchart('df-86b7dfac-9cfd-41e3-9699-fe7ae57e758e')\"\n",
              "            title=\"Suggest charts\"\n",
              "            style=\"display:none;\">\n",
              "\n",
              "<svg xmlns=\"http://www.w3.org/2000/svg\" height=\"24px\"viewBox=\"0 0 24 24\"\n",
              "     width=\"24px\">\n",
              "    <g>\n",
              "        <path d=\"M19 3H5c-1.1 0-2 .9-2 2v14c0 1.1.9 2 2 2h14c1.1 0 2-.9 2-2V5c0-1.1-.9-2-2-2zM9 17H7v-7h2v7zm4 0h-2V7h2v10zm4 0h-2v-4h2v4z\"/>\n",
              "    </g>\n",
              "</svg>\n",
              "  </button>\n",
              "\n",
              "<style>\n",
              "  .colab-df-quickchart {\n",
              "      --bg-color: #E8F0FE;\n",
              "      --fill-color: #1967D2;\n",
              "      --hover-bg-color: #E2EBFA;\n",
              "      --hover-fill-color: #174EA6;\n",
              "      --disabled-fill-color: #AAA;\n",
              "      --disabled-bg-color: #DDD;\n",
              "  }\n",
              "\n",
              "  [theme=dark] .colab-df-quickchart {\n",
              "      --bg-color: #3B4455;\n",
              "      --fill-color: #D2E3FC;\n",
              "      --hover-bg-color: #434B5C;\n",
              "      --hover-fill-color: #FFFFFF;\n",
              "      --disabled-bg-color: #3B4455;\n",
              "      --disabled-fill-color: #666;\n",
              "  }\n",
              "\n",
              "  .colab-df-quickchart {\n",
              "    background-color: var(--bg-color);\n",
              "    border: none;\n",
              "    border-radius: 50%;\n",
              "    cursor: pointer;\n",
              "    display: none;\n",
              "    fill: var(--fill-color);\n",
              "    height: 32px;\n",
              "    padding: 0;\n",
              "    width: 32px;\n",
              "  }\n",
              "\n",
              "  .colab-df-quickchart:hover {\n",
              "    background-color: var(--hover-bg-color);\n",
              "    box-shadow: 0 1px 2px rgba(60, 64, 67, 0.3), 0 1px 3px 1px rgba(60, 64, 67, 0.15);\n",
              "    fill: var(--button-hover-fill-color);\n",
              "  }\n",
              "\n",
              "  .colab-df-quickchart-complete:disabled,\n",
              "  .colab-df-quickchart-complete:disabled:hover {\n",
              "    background-color: var(--disabled-bg-color);\n",
              "    fill: var(--disabled-fill-color);\n",
              "    box-shadow: none;\n",
              "  }\n",
              "\n",
              "  .colab-df-spinner {\n",
              "    border: 2px solid var(--fill-color);\n",
              "    border-color: transparent;\n",
              "    border-bottom-color: var(--fill-color);\n",
              "    animation:\n",
              "      spin 1s steps(1) infinite;\n",
              "  }\n",
              "\n",
              "  @keyframes spin {\n",
              "    0% {\n",
              "      border-color: transparent;\n",
              "      border-bottom-color: var(--fill-color);\n",
              "      border-left-color: var(--fill-color);\n",
              "    }\n",
              "    20% {\n",
              "      border-color: transparent;\n",
              "      border-left-color: var(--fill-color);\n",
              "      border-top-color: var(--fill-color);\n",
              "    }\n",
              "    30% {\n",
              "      border-color: transparent;\n",
              "      border-left-color: var(--fill-color);\n",
              "      border-top-color: var(--fill-color);\n",
              "      border-right-color: var(--fill-color);\n",
              "    }\n",
              "    40% {\n",
              "      border-color: transparent;\n",
              "      border-right-color: var(--fill-color);\n",
              "      border-top-color: var(--fill-color);\n",
              "    }\n",
              "    60% {\n",
              "      border-color: transparent;\n",
              "      border-right-color: var(--fill-color);\n",
              "    }\n",
              "    80% {\n",
              "      border-color: transparent;\n",
              "      border-right-color: var(--fill-color);\n",
              "      border-bottom-color: var(--fill-color);\n",
              "    }\n",
              "    90% {\n",
              "      border-color: transparent;\n",
              "      border-bottom-color: var(--fill-color);\n",
              "    }\n",
              "  }\n",
              "</style>\n",
              "\n",
              "  <script>\n",
              "    async function quickchart(key) {\n",
              "      const quickchartButtonEl =\n",
              "        document.querySelector('#' + key + ' button');\n",
              "      quickchartButtonEl.disabled = true;  // To prevent multiple clicks.\n",
              "      quickchartButtonEl.classList.add('colab-df-spinner');\n",
              "      try {\n",
              "        const charts = await google.colab.kernel.invokeFunction(\n",
              "            'suggestCharts', [key], {});\n",
              "      } catch (error) {\n",
              "        console.error('Error during call to suggestCharts:', error);\n",
              "      }\n",
              "      quickchartButtonEl.classList.remove('colab-df-spinner');\n",
              "      quickchartButtonEl.classList.add('colab-df-quickchart-complete');\n",
              "    }\n",
              "    (() => {\n",
              "      let quickchartButtonEl =\n",
              "        document.querySelector('#df-86b7dfac-9cfd-41e3-9699-fe7ae57e758e button');\n",
              "      quickchartButtonEl.style.display =\n",
              "        google.colab.kernel.accessAllowed ? 'block' : 'none';\n",
              "    })();\n",
              "  </script>\n",
              "</div>\n",
              "\n",
              "    </div>\n",
              "  </div>\n"
            ],
            "text/plain": [
              "  Energy Source  Production (MW/h)  CO? Emissions (unit/h)  \\\n",
              "0          Coal               1100                    18.0   \n",
              "1   Natural Gas               1000                     9.0   \n",
              "2       Nuclear               1050                     0.5   \n",
              "3         Hydro                755                     0.2   \n",
              "4         Solar                700                     0.1   \n",
              "\n",
              "   Air Pollution (unit/h)  Water Pollution (unit/h)  Cost to Produce ($/h)  \\\n",
              "0                    15.2                      12.5                     65   \n",
              "1                     7.5                       5.8                     50   \n",
              "2                     0.5                       8.0                     25   \n",
              "3                     1.8                       4.5                     20   \n",
              "4                     0.8                       0.1                     40   \n",
              "\n",
              "   Cost to build(million $)  Cost to Maintain ($/h)  Cost to Transport ($/M)  \\\n",
              "0                      1000                      30                       10   \n",
              "1                      1900                      20                        8   \n",
              "2                     10000                      50                        5   \n",
              "3                      3000                      20                        2   \n",
              "4                      2500                      10                        2   \n",
              "\n",
              "   Winter Morning  ...  Spring Evening  Spring Night  Summer Morning  \\\n",
              "0               6  ...               6             6               6   \n",
              "1               3  ...               5             3               4   \n",
              "2               6  ...               6             6               6   \n",
              "3               2  ...               6             5               5   \n",
              "4               2  ...               3             0               4   \n",
              "\n",
              "   Summer Noon  Summer Evening  Summer Night  Fall Morning  Fall Noon  \\\n",
              "0            6               6             6             6          6   \n",
              "1            5               6             4             3          5   \n",
              "2            6               6             6             6          6   \n",
              "3            6               6             5             3          5   \n",
              "4            6               4             0             3          5   \n",
              "\n",
              "   Fall Evening  Fall Night  \n",
              "0             6           6  \n",
              "1             5           3  \n",
              "2             6           6  \n",
              "3             6           5  \n",
              "4             3           0  \n",
              "\n",
              "[5 rows x 25 columns]"
            ]
          },
          "execution_count": 3,
          "metadata": {},
          "output_type": "execute_result"
        }
      ],
      "source": [
        "data = pd.read_csv('data_project3_final.CSV')\n",
        "data.head()"
      ]
    },
    {
      "cell_type": "code",
      "execution_count": null,
      "metadata": {
        "colab": {
          "base_uri": "https://localhost:8080/"
        },
        "id": "oWEWgHfmT5Wl",
        "outputId": "350d6c74-cca0-4cbb-b4f6-fd97fbba3023"
      },
      "outputs": [
        {
          "name": "stdout",
          "output_type": "stream",
          "text": [
            "Loaded data for 7 energy sources across 4 periods and 4 seasons.\n",
            "[[[6. 6. 6. 6.]\n",
            "  [6. 6. 6. 6.]\n",
            "  [6. 6. 6. 6.]\n",
            "  [6. 6. 6. 6.]]\n",
            "\n",
            " [[3. 3. 4. 3.]\n",
            "  [5. 5. 5. 5.]\n",
            "  [4. 5. 6. 5.]\n",
            "  [6. 3. 4. 3.]]\n",
            "\n",
            " [[6. 6. 6. 6.]\n",
            "  [6. 6. 6. 6.]\n",
            "  [6. 6. 6. 6.]\n",
            "  [6. 6. 6. 6.]]\n",
            "\n",
            " [[2. 3. 5. 3.]\n",
            "  [2. 5. 6. 5.]\n",
            "  [3. 6. 6. 6.]\n",
            "  [3. 5. 5. 5.]]\n",
            "\n",
            " [[2. 3. 4. 3.]\n",
            "  [3. 5. 6. 5.]\n",
            "  [2. 3. 4. 3.]\n",
            "  [0. 0. 0. 0.]]\n",
            "\n",
            " [[5. 4. 3. 4.]\n",
            "  [3. 6. 2. 3.]\n",
            "  [6. 5. 4. 5.]\n",
            "  [6. 5. 5. 5.]]\n",
            "\n",
            " [[6. 6. 6. 6.]\n",
            "  [6. 6. 6. 6.]\n",
            "  [6. 6. 6. 6.]\n",
            "  [6. 6. 6. 6.]]]\n"
          ]
        }
      ],
      "source": [
        "energy_sources = data['Energy Source'].values\n",
        "production = data['Production (MW/h)'].values\n",
        "co2_emissions = data['CO? Emissions (unit/h)'].values\n",
        "air_pollution = data['Air Pollution (unit/h)'].values\n",
        "water_pollution = data['Water Pollution (unit/h)'].values\n",
        "prod_cost = data['Cost to Produce ($/h)'].values\n",
        "build_cost = data['Cost to build(million $)'].values\n",
        "\n",
        "\n",
        "seasons = ['Winter', 'Spring', 'Summer', 'Fall']\n",
        "periods = ['Morning', 'Noon', 'Evening', 'Night']\n",
        "efficiency_columns = [f\"{season} {period}\" for season in seasons for period in periods]\n",
        "\n",
        "# Create matrix for working hours for given periods and given seasons\n",
        "efficiency_matrix = data[efficiency_columns].values\n",
        "\n",
        "\n",
        "efficiency_3d = np.zeros((len(energy_sources), len(periods), len(seasons)))\n",
        "for i, source in enumerate(energy_sources):\n",
        "    for p, period in enumerate(periods):\n",
        "        for s, season in enumerate(seasons):\n",
        "            col_name = f\"{season} {period}\"\n",
        "            col_index = efficiency_columns.index(col_name)\n",
        "            efficiency_3d[i, p, s] = efficiency_matrix[i, col_index]"
      ]
    },
    {
      "cell_type": "code",
      "execution_count": 20,
      "metadata": {
        "colab": {
          "base_uri": "https://localhost:8080/"
        },
        "id": "jvhlO8BET5Wl",
        "outputId": "45bf0d0d-3e6d-4be9-9c81-1b8ae343f063"
      },
      "outputs": [
        {
          "name": "stdout",
          "output_type": "stream",
          "text": [
            "[96. 69. 96. 70. 43. 71. 96.]\n"
          ]
        }
      ],
      "source": [
        "working_hours = np.sum(efficiency_3d, axis=(1, 2))\n",
        "print(working_hours)"
      ]
    },
    {
      "cell_type": "markdown",
      "metadata": {
        "id": "WHjx1Tj-T5Wm"
      },
      "source": [
        "## 4. Visualization of Energy Source Characteristics"
      ]
    },
    {
      "cell_type": "code",
      "execution_count": 23,
      "metadata": {
        "colab": {
          "base_uri": "https://localhost:8080/",
          "height": 524
        },
        "id": "Go0qxbKgT5Wm",
        "outputId": "65a015ca-e1bd-4d65-b005-bd70210a3c0a"
      },
      "outputs": [
        {
          "data": {
            "image/png": "[encoded data removed]",
            "text/plain": [
              "<Figure size 1200x600 with 1 Axes>"
            ]
          },
          "metadata": {},
          "output_type": "display_data"
        }
      ],
      "source": [
        "fig, ax = plt.subplots(figsize=(12, 6))\n",
        "x = np.arange(len(energy_sources))\n",
        "\n",
        "ax.bar(x - 0.25, co2_emissions, 0.25, label='CO2 Emissions')\n",
        "ax.bar(x, air_pollution, 0.25, label='Air Pollution')\n",
        "ax.bar(x + 0.25, water_pollution, 0.25, label='Water Pollution')\n",
        "\n",
        "ax.set_xticks(x)\n",
        "ax.set_xticklabels(energy_sources)\n",
        "ax.legend()\n",
        "ax.set_ylabel('Environmental Impact (units/h)')\n",
        "ax.set_title('Environmental pollution by Energy Source')\n",
        "plt.tight_layout()\n",
        "plt.show()"
      ]
    },
    {
      "cell_type": "code",
      "execution_count": 25,
      "metadata": {
        "colab": {
          "base_uri": "https://localhost:8080/",
          "height": 579
        },
        "id": "jRuPqKdmT5Wm",
        "outputId": "0384e82d-30d2-478e-8c9d-ee1c60303468"
      },
      "outputs": [
        {
          "name": "stderr",
          "output_type": "stream",
          "text": [
            "<ipython-input-25-6a16481b30d4>:9: UserWarning: No artists with labels found to put in legend.  Note that artists whose label start with an underscore are ignored when legend() is called with no argument.\n",
            "  ax.legend()\n"
          ]
        },
        {
          "data": {
            "image/png": "[encoded data removed]",
            "text/plain": [
              "<Figure size 1200x600 with 1 Axes>"
            ]
          },
          "metadata": {},
          "output_type": "display_data"
        }
      ],
      "source": [
        "fig, ax = plt.subplots(figsize=(12, 6))\n",
        "x = np.arange(len(energy_sources))\n",
        "\n",
        "ax.bar(x, build_cost)\n",
        "\n",
        "\n",
        "ax.set_xticks(x)\n",
        "ax.set_xticklabels(energy_sources)\n",
        "ax.legend()\n",
        "ax.set_ylabel('Cost to Build Factory in millions')\n",
        "ax.set_title('Cost to Build Factory')\n",
        "plt.tight_layout()\n",
        "plt.show()"
      ]
    },
    {
      "cell_type": "markdown",
      "metadata": {
        "id": "ZA3K7SDUT5Wm"
      },
      "source": [
        "## 5. Heatmap of Operation Hour"
      ]
    },
    {
      "cell_type": "code",
      "execution_count": 32,
      "metadata": {
        "colab": {
          "base_uri": "https://localhost:8080/",
          "height": 644
        },
        "id": "tx_cZRocT5Wm",
        "outputId": "300a408a-2491-4da7-e605-80397f695a34"
      },
      "outputs": [
        {
          "data": {
            "image/png": "[encoded data removed]",
            "text/plain": [
              "<Figure size 1200x600 with 2 Axes>"
            ]
          },
          "metadata": {},
          "output_type": "display_data"
        }
      ],
      "source": [
        "season_columns = [\n",
        "    \"Winter Morning\", \"Winter Noon\", \"Winter Evening\", \"Winter Night\",\n",
        "    \"Spring Morning\", \"Spring Noon\", \"Spring Evening\", \"Spring Night\",\n",
        "    \"Summer Morning\", \"Summer Noon\", \"Summer Evening\", \"Summer Night\",\n",
        "    \"Fall Morning\", \"Fall Noon\", \"Fall Evening\", \"Fall Night\"\n",
        "]\n",
        "\n",
        "season_data = data.set_index(\"Energy Source\")[season_columns]\n",
        "\n",
        "plt.figure(figsize=(12, 6))\n",
        "ax = sns.heatmap(season_data, cmap=\"coolwarm\", annot=True)\n",
        "\n",
        "for i in range(4, len(season_columns), 4):\n",
        "    ax.axvline(i, color='black', lw=2)\n",
        "\n",
        "plt.title(\"Seasonal Operation Hours by Energy Source\")\n",
        "plt.xlabel(\"Time Periods\")\n",
        "plt.ylabel(\"Energy Source\")\n",
        "plt.xticks(rotation=45,ha='right')\n",
        "plt.show()"
      ]
    },
    {
      "cell_type": "markdown",
      "metadata": {
        "id": "z09kWnQOT5Wn"
      },
      "source": [
        "## 6. Model Parameters Setup"
      ]
    },
    {
      "cell_type": "code",
      "execution_count": null,
      "metadata": {
        "colab": {
          "base_uri": "https://localhost:8080/"
        },
        "id": "HI1vzrs2T5Wn",
        "outputId": "49529b5c-2ef0-4e10-de78-98675430ab9d"
      },
      "outputs": [
        {
          "data": {
            "text/plain": [
              "np.float64(58799.99999999999)"
            ]
          },
          "execution_count": 57,
          "metadata": {},
          "output_type": "execute_result"
        }
      ],
      "source": [
        "\n",
        "construct_budget = 100000  # in million $\n",
        "base_demand = 70000  # Base demand in MW\n",
        "demand = np.zeros((len(periods), len(seasons)))\n",
        "\n",
        "# Seasonal variations\n",
        "season_factors = {'Winter': 1.3, 'Spring': 0.8, 'Summer': 1.2, 'Fall': 0.9}\n",
        "# Period variations\n",
        "period_factors = {'Morning': 1.1, 'Noon': 1.3, 'Evening': 1.4, 'Night': 0.7}\n",
        "\n",
        "for p, period in enumerate(periods):\n",
        "    for s, season in enumerate(seasons):\n",
        "        demand[p, s] = base_demand * season_factors[season] * period_factors[period]\n",
        "\n",
        "# Hours in each period-season combination\n",
        "# Assume: 90 days per season, periods are: morning (6h), noon (6h), evening (6h), night (6h)\n",
        "hours_per_period = 6\n",
        "days_per_season = 90\n",
        "hours = np.full((len(periods), len(seasons)), hours_per_period * days_per_season)\n"
      ]
    },
    {
      "cell_type": "code",
      "execution_count": 69,
      "metadata": {
        "colab": {
          "base_uri": "https://localhost:8080/"
        },
        "id": "xZ7rkbDUdtG5",
        "outputId": "91fe2a30-0b76-44c5-914f-aa41c00efef4"
      },
      "outputs": [
        {
          "data": {
            "text/plain": [
              "array([[100100.,  61600.,  92400.,  69300.],\n",
              "       [118300.,  72800., 109200.,  81900.],\n",
              "       [127400.,  78400., 141120.,  88200.],\n",
              "       [ 63700.,  39200., 141120.,  44100.]])"
            ]
          },
          "execution_count": 69,
          "metadata": {},
          "output_type": "execute_result"
        }
      ],
      "source": [
        "demand"
      ]
    },
    {
      "cell_type": "markdown",
      "metadata": {
        "id": "w9hwzETfT5Wn"
      },
      "source": [
        "## 7. Optimization Model"
      ]
    },
    {
      "cell_type": "code",
      "execution_count": 70,
      "metadata": {
        "colab": {
          "base_uri": "https://localhost:8080/"
        },
        "id": "t0TzrYRjT5Wn",
        "outputId": "3dd67088-5346-45f5-b5b7-4a241f7d55cf"
      },
      "outputs": [
        {
          "data": {
            "text/plain": [
              "np.float64(61863.405)"
            ]
          },
          "execution_count": 70,
          "metadata": {},
          "output_type": "execute_result"
        }
      ],
      "source": [
        "n = len(energy_sources)\n",
        "\n",
        "# Decision variables: number of facilities for each energy source built\n",
        "x = cp.Variable(n, integer=True)\n",
        "\n",
        "# Weight for environmental factor\n",
        "W1 = 0.5\n",
        "# weight for economic factor\n",
        "W2 = 0.5\n",
        "\n",
        "# Environmental impact weights\n",
        "w_co2 = 0.1\n",
        "w_air = 0.3\n",
        "w_water = 0.6\n",
        "env_impact = w_co2 * co2_emissions + w_air * air_pollution + w_water * water_pollution\n",
        "\n",
        "# Objective: Minimize weighted environmental impact\n",
        "objective = cp.Minimize((cp.sum(cp.multiply(env_impact * working_hours, x)) * W1 + cp.sum(cp.multiply(prod_cost * working_hours, x))  * W2))\n",
        "\n",
        "constraints = []\n",
        "\n",
        "# Budget constraint\n",
        "constraints.append(cp.sum(cp.multiply(build_cost, x)) <= construct_budget)\n",
        "\n",
        "# Demand constraints for each period and each season\n",
        "for p in range(len(periods)):\n",
        "    for s in range(len(seasons)):\n",
        "        # Calculate the actual production for each ennrgy source in this period-season\n",
        "        effective_prod = np.array([production[i] * efficiency_3d[i, p, s] for i in range(n)])\n",
        "        constraints.append(cp.sum(cp.multiply(effective_prod, x)) >= demand[p, s])\n",
        "\n",
        "# Factor diversity constraints\n",
        "proportion = 0.25\n",
        "for i in range(n):\n",
        "    constraints.append(x[i] <= proportion*cp.sum(x))\n",
        "\n",
        "constraints.append(x >= 0)\n",
        "\n",
        "\n",
        "prob = cp.Problem(objective, constraints)\n",
        "prob.solve()"
      ]
    },
    {
      "cell_type": "markdown",
      "metadata": {
        "id": "65l_iomFT5Wn"
      },
      "source": [
        "## 8. Results Analysis"
      ]
    },
    {
      "cell_type": "code",
      "execution_count": 71,
      "metadata": {
        "colab": {
          "base_uri": "https://localhost:8080/"
        },
        "id": "bNZDIkJ0g2xk",
        "outputId": "5ff127f1-ea97-4b27-caeb-65d42c7b5ce8"
      },
      "outputs": [
        {
          "name": "stdout",
          "output_type": "stream",
          "text": [
            "Problem status: optimal\n"
          ]
        }
      ],
      "source": [
        "print(f\"Problem status: {prob.status}\")"
      ]
    },
    {
      "cell_type": "code",
      "execution_count": 72,
      "metadata": {
        "colab": {
          "base_uri": "https://localhost:8080/"
        },
        "id": "BdNv30eoT5Wo",
        "outputId": "ef57bd10-d274-45d2-a89b-eb29a2034c3a"
      },
      "outputs": [
        {
          "name": "stdout",
          "output_type": "stream",
          "text": [
            "\n",
            "\n",
            "Optimal Energy Mix:\n",
            "  Energy Source  Number of Facilities\n",
            "0          Coal                     8\n",
            "1   Natural Gas                     8\n",
            "2       Nuclear                     4\n",
            "3         Hydro                     8\n",
            "4         Solar                     3\n",
            "5          Wind                     1\n",
            "6    Geothermal                     0\n",
            "\n",
            "\n",
            "Total Construction Cost in million\n",
            "98200\n",
            "Available Budget in million:\n",
            "100000\n",
            "\n",
            "\n",
            "Annual Environmental Impact:\n",
            "CO2 Emissions:\n",
            "1901664.0\n",
            "Air Pollution: \n",
            "1736640.0\n",
            "Water Pollution: \n",
            "1857600.0000000002\n"
          ]
        }
      ],
      "source": [
        "optimal_facilities = np.round(x.value).astype(int)\n",
        "\n",
        "results = pd.DataFrame({\n",
        "    'Energy Source': energy_sources,\n",
        "    'Number of Facilities': optimal_facilities,\n",
        "    'Production Capacity (MW/h)': production * optimal_facilities,\n",
        "    'CO2 Emissions (unit/h)': co2_emissions * optimal_facilities,\n",
        "    'Air Pollution (unit/h)': air_pollution * optimal_facilities,\n",
        "    'Water Pollution (unit/h)': water_pollution * optimal_facilities,\n",
        "    'Construction Cost (million $)': build_cost * optimal_facilities\n",
        "})\n",
        "print(\"\\n\")\n",
        "print(\"Optimal Energy Mix:\")\n",
        "print(results[['Energy Source', 'Number of Facilities']])\n",
        "print(\"\\n\")\n",
        "\n",
        "print(f\"Total Construction Cost in million\")\n",
        "print(results['Construction Cost (million $)'].sum())\n",
        "print(\"Available Budget in million:\")\n",
        "print(construct_budget)\n",
        "\n",
        "\n",
        "\n",
        "total_hours = np.sum(hours)\n",
        "total_co2 = np.sum(results['CO2 Emissions (unit/h)']) * total_hours\n",
        "total_air = np.sum(results['Air Pollution (unit/h)']) * total_hours\n",
        "total_water = np.sum(results['Water Pollution (unit/h)']) * total_hours\n",
        "print(\"\\n\")\n",
        "print(\"Annual Environmental Impact:\")\n",
        "\n",
        "print(\"CO2 Emissions:\")\n",
        "print(total_co2)\n",
        "print(\"Air Pollution: \")\n",
        "print(total_air)\n",
        "print(\"Water Pollution: \")\n",
        "print(total_water)"
      ]
    },
    {
      "cell_type": "markdown",
      "metadata": {
        "id": "vFCR-1rTT5Wp"
      },
      "source": []
    }
  ],
  "metadata": {
    "colab": {
      "provenance": []
    },
    "kernelspec": {
      "display_name": "Python 3 (ipykernel)",
      "language": "python",
      "name": "python3"
    },
    "language_info": {
      "codemirror_mode": {
        "name": "ipython",
        "version": 3
      },
      "file_extension": ".py",
      "mimetype": "text/x-python",
      "name": "python",
      "nbconvert_exporter": "python",
      "pygments_lexer": "ipython3",
      "version": "3.12.8"
    }
  },
  "nbformat": 4,
  "nbformat_minor": 0
}
